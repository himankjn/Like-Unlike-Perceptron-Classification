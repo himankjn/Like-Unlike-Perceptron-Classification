{
 "cells": [
  {
   "cell_type": "code",
   "execution_count": 1,
   "metadata": {
    "_uuid": "3bf83ba8d4ec5654e2aa1c51a503131676c54fe0"
   },
   "outputs": [],
   "source": [
    "import numpy as np\n",
    "import pandas as pd\n",
    "import matplotlib.pyplot as plt\n",
    "from sklearn.preprocessing import LabelEncoder,MinMaxScaler, StandardScaler\n",
    "from sklearn.model_selection import train_test_split, ParameterGrid\n",
    "from sklearn.metrics import accuracy_score, confusion_matrix, mean_squared_error, log_loss\n",
    "import operator\n",
    "import json\n",
    "from IPython import display\n",
    "import os\n",
    "import warnings\n",
    "\n",
    "np.random.seed(0)\n",
    "warnings.filterwarnings(\"ignore\")\n",
    "THRESHOLD = 4\n",
    "import matplotlib\n",
    "%matplotlib inline"
   ]
  },
  {
   "cell_type": "markdown",
   "metadata": {
    "_uuid": "7afbf969763bea67d440cc274b5e92cdecf7f5af"
   },
   "source": [
    "Task: To predict whether the user likes the mobile phone or not. <br>\n",
    "Assumption: If the average rating of mobile >= threshold, then the user likes it, otherwise not."
   ]
  },
  {
   "cell_type": "markdown",
   "metadata": {
    "_uuid": "87a8fe0474d2dd8c8dd3d5cc76ea5c4486d4fcf6"
   },
   "source": [
    "<b>Missing values:</b><br>\n",
    "'Also Known As'(459),'Applications'(421),'Audio Features'(437),'**Bezel-less display**'(266),'Browser'(449),'Build Material'(338),'Co-Processor'(451),'Display Colour'(457),'Mobile High-Definition Link(MHL)'(472),'Music'(447)\n",
    "'Email','**Fingerprint Sensor Position**'(174),'Games'(446),'HDMI'(454),'Heart Rate Monitor'(467),'IRIS Scanner'(467),\n",
    "'**Optical Image Stabilisation**'(219),'Other Facilities'(444),'Phone Book'(444),'Physical Aperture'(87),'**Quick Charging**'(122),'Ring Tone'(444),'Ruggedness'(430),SAR Value(315),'SIM 3'(472),'SMS'(470)', 'Screen Protection'(229),'**Screen to Body Ratio** (claimed by the brand)'(428),'Sensor'(242),'Software Based Aperture'(473),\n",
    "'**Special Features**'(459),'Standby time'(334),'Stylus'(473),'TalkTime'(259), '**USB Type-C**'(374),'Video Player'(456),\n",
    "'Video Recording Features'(458),'**Waterproof**'(398),'**Wireless Charging**','**USB OTG Support**'(159), 'Video ,'Recording'(113),'Java'(471),'Browser'(448)\n",
    "\n",
    "<b>Very low variance:</b><br>\n",
    "'Architecture'(most entries are 64-bit),'Audio Jack','GPS','Loudspeaker','Network','Network Support','Other Sensors'(28),'SIM Size', 'VoLTE'\n",
    "\n",
    "\n",
    "<b>Multivalued:</b><br>\n",
    "'Colours','Custom UI','Model'(1),'Other Sensors','Launch Date'\n",
    "\n",
    "<b>Not important:</b><br>\n",
    "'Bluetooth', 'Settings'(75),'Wi-Fi','Wi-Fi Features'\n",
    "\n",
    "<b>Doubtful:</b><br>\n",
    "'Aspect Ratio','Autofocus','Brand','Camera Features','Fingerprint Sensor'(very few entries are missing),\n",
    "'Fingerprint Sensor Position', 'Graphics'(multivalued),'Image resolution'(multivalued),'SIM Size','Sim Slot(s)', 'User Available Storage', 'SIM 1', 'SIM 2','Shooting Modes', 'Touch Screen'(24), 'USB Connectivity'\n",
    "    \n",
    "<b>To check:</b><br>\n",
    "'Display Type','Expandable Memory','FM Radio'\n",
    "\n",
    "<b>High Correlation with other features</b><br>\n",
    "'SIM Slot(s)' high correlation with SIM1\n",
    "'Weight' has high high correlation with capacity , screen-to-body ratio\n",
    "'Height' - screen size is also there\n",
    "    \n",
    "<b>Given a mobile, we can't directly get these features</b><br>\n",
    "'Rating Count', 'Review Count'\n",
    "\n",
    "<b>Keeping:</b><br>\n",
    "'Capacity','Flash'(17),'Height'(22),'Internal Memory'(20, require cleaning),'Operating System'(25, require cleaning), 'Pixel Density'(1, clean it),'Processor'(22, clean it), 'RAM'(17, clean), 'Rating','Resolution'(cleaning), 'Screen Resolution','Screen Size', 'Thickness'(22), 'Type','User Replaceable','Weight'(cleaning),'Sim Size'(), 'Other Sensors'(28), 'Screen to Body Ratio (calculated)','Width',\n"
   ]
  },
  {
   "cell_type": "code",
   "execution_count": 3,
   "metadata": {
    "_uuid": "05b640c3d3be0670eabfd79f6bc3dce3fff5bf9b"
   },
   "outputs": [
    {
     "name": "stdout",
     "output_type": "stream",
     "text": [
      "Number of data points in train: 355\n",
      "Number of features in train: 99\n",
      "Number of data points in test: 119\n",
      "Number of features in test: 98\n"
     ]
    }
   ],
   "source": [
    "# read data from file\n",
    "train = pd.read_csv(\"train.csv\") \n",
    "test = pd.read_csv(\"test.csv\")\n",
    "\n",
    "# check the number of features and data points in train\n",
    "print(\"Number of data points in train: %d\" % train.shape[0])\n",
    "print(\"Number of features in train: %d\" % train.shape[1])\n",
    "\n",
    "# check the number of features and data points in test\n",
    "print(\"Number of data points in test: %d\" % test.shape[0])\n",
    "print(\"Number of features in test: %d\" % test.shape[1])"
   ]
  },
  {
   "cell_type": "code",
   "execution_count": 4,
   "metadata": {
    "_uuid": "4c0dbbcfaf60e0634ff294f330d881651308b5be"
   },
   "outputs": [],
   "source": [
    "def data_clean(data):\n",
    "    \n",
    "    # Let's first remove all missing value features\n",
    "    columns_to_remove = ['Also Known As','Applications','Audio Features','Bezel-less display'\n",
    "                         'Browser','Build Material','Co-Processor','Browser'\n",
    "                         'Display Colour','Mobile High-Definition Link(MHL)',\n",
    "                         'Music', 'Email','Fingerprint Sensor Position',\n",
    "                         'Games','HDMI','Heart Rate Monitor','IRIS Scanner', \n",
    "                         'Optical Image Stabilisation','Other Facilities',\n",
    "                         'Phone Book','Physical Aperture','Quick Charging',\n",
    "                         'Ring Tone','Ruggedness','SAR Value','SIM 3','SMS',\n",
    "                         'Screen Protection','Screen to Body Ratio (claimed by the brand)',\n",
    "                         'Sensor','Software Based Aperture', 'Special Features',\n",
    "                         'Standby time','Stylus','TalkTime', 'USB Type-C',\n",
    "                         'Video Player', 'Video Recording Features','Waterproof',\n",
    "                         'Wireless Charging','USB OTG Support', 'Video Recording','Java']\n",
    "\n",
    "    columns_to_retain = list(set(data.columns)-set(columns_to_remove))\n",
    "    data = data[columns_to_retain]\n",
    "\n",
    "    #Features having very low variance \n",
    "    columns_to_remove = ['Architecture','Audio Jack','GPS','Loudspeaker','Network','Network Support','VoLTE']\n",
    "    columns_to_retain = list(set(data.columns)-set(columns_to_remove))\n",
    "    data = data[columns_to_retain]\n",
    "\n",
    "    # Multivalued:\n",
    "    columns_to_remove = ['Architecture','Launch Date','Audio Jack','GPS','Loudspeaker','Network','Network Support','VoLTE', 'Custom UI']\n",
    "    columns_to_retain = list(set(data.columns)-set(columns_to_remove))\n",
    "    data = data[columns_to_retain]\n",
    "\n",
    "    # Not much important\n",
    "    columns_to_remove = ['Bluetooth', 'Settings','Wi-Fi','Wi-Fi Features']\n",
    "    columns_to_retain = list(set(data.columns)-set(columns_to_remove))\n",
    "    data = data[columns_to_retain]\n",
    "    \n",
    "    return data"
   ]
  },
  {
   "cell_type": "markdown",
   "metadata": {
    "_uuid": "d3b5bb6946d956d3a7f720fbb2916e411d35b380"
   },
   "source": [
    "# Removing features"
   ]
  },
  {
   "cell_type": "code",
   "execution_count": 5,
   "metadata": {
    "_uuid": "93aaf68b4c673dd0571669de508a31f5d8ebbe4b"
   },
   "outputs": [],
   "source": [
    "train = data_clean(train)\n",
    "test = data_clean(test)"
   ]
  },
  {
   "cell_type": "markdown",
   "metadata": {
    "_uuid": "220d952826be942dcc6f22439d2ed4b5025d5f1f"
   },
   "source": [
    "removing all those data points in which more than 15 features are missing "
   ]
  },
  {
   "cell_type": "code",
   "execution_count": 6,
   "metadata": {
    "_uuid": "1b664a4305d37359156eeda00adceeac093f5b47"
   },
   "outputs": [],
   "source": [
    "train = train[(train.isnull().sum(axis=1) <= 15)]\n",
    "# You shouldn't remove data points from test set\n",
    "#test = test[(test.isnull().sum(axis=1) <= 15)]"
   ]
  },
  {
   "cell_type": "code",
   "execution_count": 7,
   "metadata": {
    "_uuid": "28fe52b1b9c296e6801318d6998a8bbff60f0de2"
   },
   "outputs": [
    {
     "name": "stdout",
     "output_type": "stream",
     "text": [
      "Number of data points in train: 341\n",
      "Number of features in train: 47\n",
      "Number of data points in test: 119\n",
      "Number of features in test: 46\n"
     ]
    }
   ],
   "source": [
    "# check the number of features and data points in train\n",
    "print(\"Number of data points in train: %d\" % train.shape[0])\n",
    "print(\"Number of features in train: %d\" % train.shape[1])\n",
    "\n",
    "# check the number of features and data points in test\n",
    "print(\"Number of data points in test: %d\" % test.shape[0])\n",
    "print(\"Number of features in test: %d\" % test.shape[1])"
   ]
  },
  {
   "cell_type": "markdown",
   "metadata": {
    "_uuid": "60d7aef59a803ba04ea0559561f28a518b14f97e"
   },
   "source": [
    "# Filling Missing values"
   ]
  },
  {
   "cell_type": "code",
   "execution_count": 13,
   "metadata": {
    "_uuid": "943424b302e4cf60656f3bd63ae0c3cf7a453849"
   },
   "outputs": [],
   "source": [
    "def for_integer(test):\n",
    "    try:\n",
    "        test = test.strip()\n",
    "        return int(test.split(' ')[0])\n",
    "    except IOError:\n",
    "           pass\n",
    "    except ValueError:\n",
    "        pass\n",
    "    except:\n",
    "        pass\n",
    "\n",
    "def for_string(test):\n",
    "    try:\n",
    "        test = test.strip()\n",
    "        return (test.split(' ')[0])\n",
    "    except IOError:\n",
    "        pass\n",
    "    except ValueError:\n",
    "        pass\n",
    "    except:\n",
    "        pass\n",
    "\n",
    "def for_float(test):\n",
    "    try:\n",
    "        test = test.strip()\n",
    "        return float(test.split(' ')[0])\n",
    "    except IOError:\n",
    "        pass\n",
    "    except ValueError:\n",
    "        pass\n",
    "    except:\n",
    "        pass\n",
    "def find_freq(test):\n",
    "    try:\n",
    "        test = test.strip()\n",
    "        test = test.split(' ')\n",
    "        if test[2][0] == '(':\n",
    "            return float(test[2][1:])\n",
    "        return float(test[2])\n",
    "    except IOError:\n",
    "        pass\n",
    "    except ValueError:\n",
    "        pass\n",
    "    except:\n",
    "        pass\n",
    "\n",
    "    \n",
    "def for_Internal_Memory(test):\n",
    "    try:\n",
    "        test = test.strip()\n",
    "        test = test.split(' ')\n",
    "        if test[1] == 'GB':\n",
    "            return int(test[0])\n",
    "        if test[1] == 'MB':\n",
    "#             print(\"here\")\n",
    "            return (int(test[0]) * 0.001)\n",
    "    except IOError:\n",
    "           pass\n",
    "    except ValueError:\n",
    "        pass\n",
    "    except:\n",
    "        pass\n",
    "    \n",
    "def find_freq(test):\n",
    "    try:\n",
    "        test = test.strip()\n",
    "        test = test.split(' ')\n",
    "        if test[2][0] == '(':\n",
    "            return float(test[2][1:])\n",
    "        return float(test[2])\n",
    "    except IOError:\n",
    "        pass\n",
    "    except ValueError:\n",
    "        pass\n",
    "    except:\n",
    "        pass\n"
   ]
  },
  {
   "cell_type": "code",
   "execution_count": 14,
   "metadata": {
    "_uuid": "84a2e20257125ae5ee56c228b6b5e29f0dc4206d"
   },
   "outputs": [],
   "source": [
    "def data_clean_2(x):\n",
    "    data = x.copy()\n",
    "    \n",
    "    data['Capacity'] = data['Capacity'].apply(for_integer)\n",
    "\n",
    "    data['Height'] = data['Height'].apply(for_float)\n",
    "    data['Height'] = data['Height'].fillna(data['Height'].mean())\n",
    "\n",
    "    data['Internal Memory'] = data['Internal Memory'].apply(for_Internal_Memory)\n",
    "\n",
    "    data['Pixel Density'] = data['Pixel Density'].apply(for_integer)\n",
    "\n",
    "    data['Internal Memory'] = data['Internal Memory'].fillna(data['Internal Memory'].median())\n",
    "    data['Internal Memory'] = data['Internal Memory'].astype(int)\n",
    "\n",
    "    data['RAM'] = data['RAM'].apply(for_integer)\n",
    "    data['RAM'] = data['RAM'].fillna(data['RAM'].median())\n",
    "    data['RAM'] = data['RAM'].astype(int)\n",
    "\n",
    "    data['Resolution'] = data['Resolution'].apply(for_integer)\n",
    "    data['Resolution'] = data['Resolution'].fillna(data['Resolution'].median())\n",
    "    data['Resolution'] = data['Resolution'].astype(int)\n",
    "\n",
    "    data['Screen Size'] = data['Screen Size'].apply(for_float)\n",
    "\n",
    "    data['Thickness'] = data['Thickness'].apply(for_float)\n",
    "    data['Thickness'] = data['Thickness'].fillna(data['Thickness'].mean())\n",
    "    data['Thickness'] = data['Thickness'].round(2)\n",
    "\n",
    "    data['Type'] = data['Type'].fillna('Li-Polymer')\n",
    "\n",
    "    data['Screen to Body Ratio (calculated)'] = data['Screen to Body Ratio (calculated)'].apply(for_float)\n",
    "    data['Screen to Body Ratio (calculated)'] = data['Screen to Body Ratio (calculated)'].fillna(data['Screen to Body Ratio (calculated)'].mean())\n",
    "    data['Screen to Body Ratio (calculated)'] = data['Screen to Body Ratio (calculated)'].round(2)\n",
    "\n",
    "    data['Width'] = data['Width'].apply(for_float)\n",
    "    data['Width'] = data['Width'].fillna(data['Width'].mean())\n",
    "    data['Width'] = data['Width'].round(2)\n",
    "\n",
    "    data['Flash'][data['Flash'].isna() == True] = \"Other\"\n",
    "\n",
    "    data['User Replaceable'][data['User Replaceable'].isna() == True] = \"Other\"\n",
    "\n",
    "    data['Num_cores'] = data['Processor'].apply(for_string)\n",
    "    data['Num_cores'][data['Num_cores'].isna() == True] = \"Other\"\n",
    "\n",
    "\n",
    "    data['Processor_frequency'] = data['Processor'].apply(find_freq)\n",
    "    #because there is one entry with 208MHz values, to convert it to GHz\n",
    "    data['Processor_frequency'][data['Processor_frequency'] > 200] = 0.208\n",
    "    data['Processor_frequency'] = data['Processor_frequency'].fillna(data['Processor_frequency'].mean())\n",
    "    data['Processor_frequency'] = data['Processor_frequency'].round(2)\n",
    "\n",
    "    data['Camera Features'][data['Camera Features'].isna() == True] = \"Other\"\n",
    "\n",
    "    #simplifyig Operating System to os_name for simplicity\n",
    "    data['os_name'] = data['Operating System'].apply(for_string)\n",
    "    data['os_name'][data['os_name'].isna() == True] = \"Other\"\n",
    "\n",
    "    data['Sim1'] = data['SIM 1'].apply(for_string)\n",
    "\n",
    "    data['SIM Size'][data['SIM Size'].isna() == True] = \"Other\"\n",
    "\n",
    "    data['Image Resolution'][data['Image Resolution'].isna() == True] = \"Other\"\n",
    "\n",
    "    data['Fingerprint Sensor'][data['Fingerprint Sensor'].isna() == True] = \"Other\"\n",
    "\n",
    "    data['Expandable Memory'][data['Expandable Memory'].isna() == True] = \"No\"\n",
    "\n",
    "    data['Weight'] = data['Weight'].apply(for_integer)\n",
    "    data['Weight'] = data['Weight'].fillna(data['Weight'].mean())\n",
    "    data['Weight'] = data['Weight'].astype(int)\n",
    "\n",
    "    data['SIM 2'] = data['SIM 2'].apply(for_string)\n",
    "    data['SIM 2'][data['SIM 2'].isna() == True] = \"Other\"\n",
    "    \n",
    "    return data"
   ]
  },
  {
   "cell_type": "code",
   "execution_count": 15,
   "metadata": {
    "_uuid": "6606cc14620dfef00cadaca32f35aa5811dc9eb4"
   },
   "outputs": [
    {
     "ename": "ValueError",
     "evalue": "Cannot convert non-finite values (NA or inf) to integer",
     "output_type": "error",
     "traceback": [
      "\u001b[0;31m---------------------------------------------------------------------------\u001b[0m",
      "\u001b[0;31mValueError\u001b[0m                                Traceback (most recent call last)",
      "\u001b[0;32m<ipython-input-15-7a05693c2f5a>\u001b[0m in \u001b[0;36m<module>\u001b[0;34m\u001b[0m\n\u001b[0;32m----> 1\u001b[0;31m \u001b[0mtrain\u001b[0m \u001b[0;34m=\u001b[0m \u001b[0mdata_clean_2\u001b[0m\u001b[0;34m(\u001b[0m\u001b[0mtrain\u001b[0m\u001b[0;34m)\u001b[0m\u001b[0;34m\u001b[0m\u001b[0;34m\u001b[0m\u001b[0m\n\u001b[0m\u001b[1;32m      2\u001b[0m \u001b[0mtest\u001b[0m \u001b[0;34m=\u001b[0m \u001b[0mdata_clean_2\u001b[0m\u001b[0;34m(\u001b[0m\u001b[0mtest\u001b[0m\u001b[0;34m)\u001b[0m\u001b[0;34m\u001b[0m\u001b[0;34m\u001b[0m\u001b[0m\n\u001b[1;32m      3\u001b[0m \u001b[0;34m\u001b[0m\u001b[0m\n\u001b[1;32m      4\u001b[0m \u001b[0;31m# check the number of features and data points in train\u001b[0m\u001b[0;34m\u001b[0m\u001b[0;34m\u001b[0m\u001b[0;34m\u001b[0m\u001b[0m\n\u001b[1;32m      5\u001b[0m \u001b[0mprint\u001b[0m\u001b[0;34m(\u001b[0m\u001b[0;34m\"Number of data points in train: %d\"\u001b[0m \u001b[0;34m%\u001b[0m \u001b[0mtrain\u001b[0m\u001b[0;34m.\u001b[0m\u001b[0mshape\u001b[0m\u001b[0;34m[\u001b[0m\u001b[0;36m0\u001b[0m\u001b[0;34m]\u001b[0m\u001b[0;34m)\u001b[0m\u001b[0;34m\u001b[0m\u001b[0;34m\u001b[0m\u001b[0m\n",
      "\u001b[0;32m<ipython-input-14-25b5abf3c6b6>\u001b[0m in \u001b[0;36mdata_clean_2\u001b[0;34m(x)\u001b[0m\n\u001b[1;32m     12\u001b[0m \u001b[0;34m\u001b[0m\u001b[0m\n\u001b[1;32m     13\u001b[0m     \u001b[0mdata\u001b[0m\u001b[0;34m[\u001b[0m\u001b[0;34m'Internal Memory'\u001b[0m\u001b[0;34m]\u001b[0m \u001b[0;34m=\u001b[0m \u001b[0mdata\u001b[0m\u001b[0;34m[\u001b[0m\u001b[0;34m'Internal Memory'\u001b[0m\u001b[0;34m]\u001b[0m\u001b[0;34m.\u001b[0m\u001b[0mfillna\u001b[0m\u001b[0;34m(\u001b[0m\u001b[0mdata\u001b[0m\u001b[0;34m[\u001b[0m\u001b[0;34m'Internal Memory'\u001b[0m\u001b[0;34m]\u001b[0m\u001b[0;34m.\u001b[0m\u001b[0mmedian\u001b[0m\u001b[0;34m(\u001b[0m\u001b[0;34m)\u001b[0m\u001b[0;34m)\u001b[0m\u001b[0;34m\u001b[0m\u001b[0;34m\u001b[0m\u001b[0m\n\u001b[0;32m---> 14\u001b[0;31m     \u001b[0mdata\u001b[0m\u001b[0;34m[\u001b[0m\u001b[0;34m'Internal Memory'\u001b[0m\u001b[0;34m]\u001b[0m \u001b[0;34m=\u001b[0m \u001b[0mdata\u001b[0m\u001b[0;34m[\u001b[0m\u001b[0;34m'Internal Memory'\u001b[0m\u001b[0;34m]\u001b[0m\u001b[0;34m.\u001b[0m\u001b[0mastype\u001b[0m\u001b[0;34m(\u001b[0m\u001b[0mint\u001b[0m\u001b[0;34m)\u001b[0m\u001b[0;34m\u001b[0m\u001b[0;34m\u001b[0m\u001b[0m\n\u001b[0m\u001b[1;32m     15\u001b[0m \u001b[0;34m\u001b[0m\u001b[0m\n\u001b[1;32m     16\u001b[0m     \u001b[0mdata\u001b[0m\u001b[0;34m[\u001b[0m\u001b[0;34m'RAM'\u001b[0m\u001b[0;34m]\u001b[0m \u001b[0;34m=\u001b[0m \u001b[0mdata\u001b[0m\u001b[0;34m[\u001b[0m\u001b[0;34m'RAM'\u001b[0m\u001b[0;34m]\u001b[0m\u001b[0;34m.\u001b[0m\u001b[0mapply\u001b[0m\u001b[0;34m(\u001b[0m\u001b[0mfor_integer\u001b[0m\u001b[0;34m)\u001b[0m\u001b[0;34m\u001b[0m\u001b[0;34m\u001b[0m\u001b[0m\n",
      "\u001b[0;32m~/anaconda3/lib/python3.7/site-packages/pandas/core/generic.py\u001b[0m in \u001b[0;36mastype\u001b[0;34m(self, dtype, copy, errors, **kwargs)\u001b[0m\n\u001b[1;32m   5689\u001b[0m             \u001b[0;31m# else, only a single dtype is given\u001b[0m\u001b[0;34m\u001b[0m\u001b[0;34m\u001b[0m\u001b[0;34m\u001b[0m\u001b[0m\n\u001b[1;32m   5690\u001b[0m             new_data = self._data.astype(dtype=dtype, copy=copy, errors=errors,\n\u001b[0;32m-> 5691\u001b[0;31m                                          **kwargs)\n\u001b[0m\u001b[1;32m   5692\u001b[0m             \u001b[0;32mreturn\u001b[0m \u001b[0mself\u001b[0m\u001b[0;34m.\u001b[0m\u001b[0m_constructor\u001b[0m\u001b[0;34m(\u001b[0m\u001b[0mnew_data\u001b[0m\u001b[0;34m)\u001b[0m\u001b[0;34m.\u001b[0m\u001b[0m__finalize__\u001b[0m\u001b[0;34m(\u001b[0m\u001b[0mself\u001b[0m\u001b[0;34m)\u001b[0m\u001b[0;34m\u001b[0m\u001b[0;34m\u001b[0m\u001b[0m\n\u001b[1;32m   5693\u001b[0m \u001b[0;34m\u001b[0m\u001b[0m\n",
      "\u001b[0;32m~/anaconda3/lib/python3.7/site-packages/pandas/core/internals/managers.py\u001b[0m in \u001b[0;36mastype\u001b[0;34m(self, dtype, **kwargs)\u001b[0m\n\u001b[1;32m    529\u001b[0m \u001b[0;34m\u001b[0m\u001b[0m\n\u001b[1;32m    530\u001b[0m     \u001b[0;32mdef\u001b[0m \u001b[0mastype\u001b[0m\u001b[0;34m(\u001b[0m\u001b[0mself\u001b[0m\u001b[0;34m,\u001b[0m \u001b[0mdtype\u001b[0m\u001b[0;34m,\u001b[0m \u001b[0;34m**\u001b[0m\u001b[0mkwargs\u001b[0m\u001b[0;34m)\u001b[0m\u001b[0;34m:\u001b[0m\u001b[0;34m\u001b[0m\u001b[0;34m\u001b[0m\u001b[0m\n\u001b[0;32m--> 531\u001b[0;31m         \u001b[0;32mreturn\u001b[0m \u001b[0mself\u001b[0m\u001b[0;34m.\u001b[0m\u001b[0mapply\u001b[0m\u001b[0;34m(\u001b[0m\u001b[0;34m'astype'\u001b[0m\u001b[0;34m,\u001b[0m \u001b[0mdtype\u001b[0m\u001b[0;34m=\u001b[0m\u001b[0mdtype\u001b[0m\u001b[0;34m,\u001b[0m \u001b[0;34m**\u001b[0m\u001b[0mkwargs\u001b[0m\u001b[0;34m)\u001b[0m\u001b[0;34m\u001b[0m\u001b[0;34m\u001b[0m\u001b[0m\n\u001b[0m\u001b[1;32m    532\u001b[0m \u001b[0;34m\u001b[0m\u001b[0m\n\u001b[1;32m    533\u001b[0m     \u001b[0;32mdef\u001b[0m \u001b[0mconvert\u001b[0m\u001b[0;34m(\u001b[0m\u001b[0mself\u001b[0m\u001b[0;34m,\u001b[0m \u001b[0;34m**\u001b[0m\u001b[0mkwargs\u001b[0m\u001b[0;34m)\u001b[0m\u001b[0;34m:\u001b[0m\u001b[0;34m\u001b[0m\u001b[0;34m\u001b[0m\u001b[0m\n",
      "\u001b[0;32m~/anaconda3/lib/python3.7/site-packages/pandas/core/internals/managers.py\u001b[0m in \u001b[0;36mapply\u001b[0;34m(self, f, axes, filter, do_integrity_check, consolidate, **kwargs)\u001b[0m\n\u001b[1;32m    393\u001b[0m                                             copy=align_copy)\n\u001b[1;32m    394\u001b[0m \u001b[0;34m\u001b[0m\u001b[0m\n\u001b[0;32m--> 395\u001b[0;31m             \u001b[0mapplied\u001b[0m \u001b[0;34m=\u001b[0m \u001b[0mgetattr\u001b[0m\u001b[0;34m(\u001b[0m\u001b[0mb\u001b[0m\u001b[0;34m,\u001b[0m \u001b[0mf\u001b[0m\u001b[0;34m)\u001b[0m\u001b[0;34m(\u001b[0m\u001b[0;34m**\u001b[0m\u001b[0mkwargs\u001b[0m\u001b[0;34m)\u001b[0m\u001b[0;34m\u001b[0m\u001b[0;34m\u001b[0m\u001b[0m\n\u001b[0m\u001b[1;32m    396\u001b[0m             \u001b[0mresult_blocks\u001b[0m \u001b[0;34m=\u001b[0m \u001b[0m_extend_blocks\u001b[0m\u001b[0;34m(\u001b[0m\u001b[0mapplied\u001b[0m\u001b[0;34m,\u001b[0m \u001b[0mresult_blocks\u001b[0m\u001b[0;34m)\u001b[0m\u001b[0;34m\u001b[0m\u001b[0;34m\u001b[0m\u001b[0m\n\u001b[1;32m    397\u001b[0m \u001b[0;34m\u001b[0m\u001b[0m\n",
      "\u001b[0;32m~/anaconda3/lib/python3.7/site-packages/pandas/core/internals/blocks.py\u001b[0m in \u001b[0;36mastype\u001b[0;34m(self, dtype, copy, errors, values, **kwargs)\u001b[0m\n\u001b[1;32m    532\u001b[0m     \u001b[0;32mdef\u001b[0m \u001b[0mastype\u001b[0m\u001b[0;34m(\u001b[0m\u001b[0mself\u001b[0m\u001b[0;34m,\u001b[0m \u001b[0mdtype\u001b[0m\u001b[0;34m,\u001b[0m \u001b[0mcopy\u001b[0m\u001b[0;34m=\u001b[0m\u001b[0;32mFalse\u001b[0m\u001b[0;34m,\u001b[0m \u001b[0merrors\u001b[0m\u001b[0;34m=\u001b[0m\u001b[0;34m'raise'\u001b[0m\u001b[0;34m,\u001b[0m \u001b[0mvalues\u001b[0m\u001b[0;34m=\u001b[0m\u001b[0;32mNone\u001b[0m\u001b[0;34m,\u001b[0m \u001b[0;34m**\u001b[0m\u001b[0mkwargs\u001b[0m\u001b[0;34m)\u001b[0m\u001b[0;34m:\u001b[0m\u001b[0;34m\u001b[0m\u001b[0;34m\u001b[0m\u001b[0m\n\u001b[1;32m    533\u001b[0m         return self._astype(dtype, copy=copy, errors=errors, values=values,\n\u001b[0;32m--> 534\u001b[0;31m                             **kwargs)\n\u001b[0m\u001b[1;32m    535\u001b[0m \u001b[0;34m\u001b[0m\u001b[0m\n\u001b[1;32m    536\u001b[0m     def _astype(self, dtype, copy=False, errors='raise', values=None,\n",
      "\u001b[0;32m~/anaconda3/lib/python3.7/site-packages/pandas/core/internals/blocks.py\u001b[0m in \u001b[0;36m_astype\u001b[0;34m(self, dtype, copy, errors, values, **kwargs)\u001b[0m\n\u001b[1;32m    631\u001b[0m \u001b[0;34m\u001b[0m\u001b[0m\n\u001b[1;32m    632\u001b[0m                     \u001b[0;31m# _astype_nansafe works fine with 1-d only\u001b[0m\u001b[0;34m\u001b[0m\u001b[0;34m\u001b[0m\u001b[0;34m\u001b[0m\u001b[0m\n\u001b[0;32m--> 633\u001b[0;31m                     \u001b[0mvalues\u001b[0m \u001b[0;34m=\u001b[0m \u001b[0mastype_nansafe\u001b[0m\u001b[0;34m(\u001b[0m\u001b[0mvalues\u001b[0m\u001b[0;34m.\u001b[0m\u001b[0mravel\u001b[0m\u001b[0;34m(\u001b[0m\u001b[0;34m)\u001b[0m\u001b[0;34m,\u001b[0m \u001b[0mdtype\u001b[0m\u001b[0;34m,\u001b[0m \u001b[0mcopy\u001b[0m\u001b[0;34m=\u001b[0m\u001b[0;32mTrue\u001b[0m\u001b[0;34m)\u001b[0m\u001b[0;34m\u001b[0m\u001b[0;34m\u001b[0m\u001b[0m\n\u001b[0m\u001b[1;32m    634\u001b[0m \u001b[0;34m\u001b[0m\u001b[0m\n\u001b[1;32m    635\u001b[0m                 \u001b[0;31m# TODO(extension)\u001b[0m\u001b[0;34m\u001b[0m\u001b[0;34m\u001b[0m\u001b[0;34m\u001b[0m\u001b[0m\n",
      "\u001b[0;32m~/anaconda3/lib/python3.7/site-packages/pandas/core/dtypes/cast.py\u001b[0m in \u001b[0;36mastype_nansafe\u001b[0;34m(arr, dtype, copy, skipna)\u001b[0m\n\u001b[1;32m    674\u001b[0m \u001b[0;34m\u001b[0m\u001b[0m\n\u001b[1;32m    675\u001b[0m         \u001b[0;32mif\u001b[0m \u001b[0;32mnot\u001b[0m \u001b[0mnp\u001b[0m\u001b[0;34m.\u001b[0m\u001b[0misfinite\u001b[0m\u001b[0;34m(\u001b[0m\u001b[0marr\u001b[0m\u001b[0;34m)\u001b[0m\u001b[0;34m.\u001b[0m\u001b[0mall\u001b[0m\u001b[0;34m(\u001b[0m\u001b[0;34m)\u001b[0m\u001b[0;34m:\u001b[0m\u001b[0;34m\u001b[0m\u001b[0;34m\u001b[0m\u001b[0m\n\u001b[0;32m--> 676\u001b[0;31m             raise ValueError('Cannot convert non-finite values (NA or inf) to '\n\u001b[0m\u001b[1;32m    677\u001b[0m                              'integer')\n\u001b[1;32m    678\u001b[0m \u001b[0;34m\u001b[0m\u001b[0m\n",
      "\u001b[0;31mValueError\u001b[0m: Cannot convert non-finite values (NA or inf) to integer"
     ]
    }
   ],
   "source": [
    "train = data_clean_2(train)\n",
    "test = data_clean_2(test)\n",
    "\n",
    "# check the number of features and data points in train\n",
    "print(\"Number of data points in train: %d\" % train.shape[0])\n",
    "print(\"Number of features in train: %d\" % train.shape[1])\n",
    "\n",
    "# check the number of features and data points in test\n",
    "print(\"Number of data points in test: %d\" % test.shape[0])\n",
    "print(\"Number of features in test: %d\" % test.shape[1])"
   ]
  },
  {
   "cell_type": "markdown",
   "metadata": {
    "_uuid": "7a22a088d0388771b7da1c85c673c645f7fe635b"
   },
   "source": [
    "Not very important feature"
   ]
  },
  {
   "cell_type": "code",
   "execution_count": null,
   "metadata": {
    "_uuid": "34329a77ac0bc23ddb915869a7af31cfb5e4ac06"
   },
   "outputs": [],
   "source": [
    "def data_clean_3(x):\n",
    "    \n",
    "    data = x.copy()\n",
    "\n",
    "    columns_to_remove = ['User Available Storage','SIM Size','Chipset','Processor','Autofocus','Aspect Ratio','Touch Screen',\n",
    "                        'Bezel-less display','Operating System','SIM 1','USB Connectivity','Other Sensors','Graphics','FM Radio',\n",
    "                        'NFC','Shooting Modes','Browser','Display Colour' ]\n",
    "\n",
    "    columns_to_retain = list(set(data.columns)-set(columns_to_remove))\n",
    "    data = data[columns_to_retain]\n",
    "\n",
    "\n",
    "    columns_to_remove = [ 'Screen Resolution','User Replaceable','Camera Features',\n",
    "                        'Thickness', 'Display Type']\n",
    "\n",
    "    columns_to_retain = list(set(data.columns)-set(columns_to_remove))\n",
    "    data = data[columns_to_retain]\n",
    "\n",
    "\n",
    "    columns_to_remove = ['Fingerprint Sensor', 'Flash', 'Rating Count', 'Review Count','Image Resolution','Type','Expandable Memory',\\\n",
    "                        'Colours','Width','Model']\n",
    "    columns_to_retain = list(set(data.columns)-set(columns_to_remove))\n",
    "    data = data[columns_to_retain]\n",
    "\n",
    "    return data"
   ]
  },
  {
   "cell_type": "code",
   "execution_count": null,
   "metadata": {
    "_uuid": "69656278c3887c2e7d34375f27a0a2c8b6945c01"
   },
   "outputs": [],
   "source": [
    "train = data_clean_3(train)\n",
    "test = data_clean_3(test)\n",
    "\n",
    "# check the number of features and data points in train\n",
    "print(\"Number of data points in train: %d\" % train.shape[0])\n",
    "print(\"Number of features in train: %d\" % train.shape[1])\n",
    "\n",
    "# check the number of features and data points in test\n",
    "print(\"Number of data points in test: %d\" % test.shape[0])\n",
    "print(\"Number of features in test: %d\" % test.shape[1])"
   ]
  },
  {
   "cell_type": "code",
   "execution_count": null,
   "metadata": {
    "_uuid": "428a0c34ff1fc15f7128bb31416eb6f6ff35597d"
   },
   "outputs": [],
   "source": [
    "# one hot encoding\n",
    "\n",
    "train_ids = train['PhoneId']\n",
    "test_ids = test['PhoneId']\n",
    "\n",
    "cols = list(test.columns)\n",
    "cols.remove('PhoneId')\n",
    "cols.insert(0, 'PhoneId')\n",
    "\n",
    "combined = pd.concat([train.drop('Rating', axis=1)[cols], test[cols]])\n",
    "print(combined.shape)\n",
    "print(combined.columns)\n",
    "#combined = combined.drop(['Brand'],axis=1)\n",
    "combined = pd.get_dummies(combined)\n",
    "print(combined.shape)\n",
    "print(combined.columns)\n",
    "\n",
    "train_new = combined[combined['PhoneId'].isin(train_ids)]\n",
    "test_new = combined[combined['PhoneId'].isin(test_ids)]"
   ]
  },
  {
   "cell_type": "code",
   "execution_count": null,
   "metadata": {
    "_uuid": "ae481026f74149d4685e1c33e9432d9bdb9914ad"
   },
   "outputs": [],
   "source": [
    "train_new = train_new.merge(train[['PhoneId', 'Rating']], on='PhoneId')"
   ]
  },
  {
   "cell_type": "code",
   "execution_count": null,
   "metadata": {
    "_uuid": "44bd8da8a392f40494615f3ea7ddd4bdcaae41fa"
   },
   "outputs": [],
   "source": [
    "# check the number of features and data points in train\n",
    "print(\"Number of data points in train: %d\" % train_new.shape[0])\n",
    "print(\"Number of features in train: %d\" % train_new.shape[1])\n",
    "\n",
    "# check the number of features and data points in test\n",
    "print(\"Number of data points in test: %d\" % test_new.shape[0])\n",
    "print(\"Number of features in test: %d\" % test_new.shape[1])"
   ]
  },
  {
   "cell_type": "code",
   "execution_count": null,
   "metadata": {
    "_uuid": "990a43ef181305023ad1a99498da76119fda4824"
   },
   "outputs": [],
   "source": [
    "train_new.head()"
   ]
  },
  {
   "cell_type": "code",
   "execution_count": null,
   "metadata": {
    "_uuid": "6871b1957e8ce987e8fedd3ac3b31e93bd13ad6b"
   },
   "outputs": [],
   "source": [
    "test_new.head()"
   ]
  },
  {
   "cell_type": "code",
   "execution_count": null,
   "metadata": {
    "_uuid": "c1a57b761256c3372239d9dc726964e70102f352"
   },
   "outputs": [],
   "source": [
    "class Perceptron:\n",
    "    def __init__ (self):\n",
    "        self.w = None\n",
    "        self.b = None\n",
    "        self.device = None\n",
    "        self.random_inits = {'normal':np.random.normal,'uniform':np.random.uniform}\n",
    "        \n",
    "    def model(self, x):\n",
    "        dot_product = np.dot(self.w, x)\n",
    "        return 1 if (dot_product >= self.b) else 0\n",
    "    \n",
    "    def predict(self, X):\n",
    "        Y = []\n",
    "        for x in X:\n",
    "            result = self.model(x)\n",
    "            Y.append(result)\n",
    "        return np.array(Y)\n",
    "    \n",
    "    def fit(self, X, Y, epochs = 1, lr = 1,seeds=(1,1),init='normal',random_inits=True):\n",
    "        if X.shape[0] != Y.shape[0]:\n",
    "            print('X and Y have different shapes!',X.shape[0],'!=',Y.shape[0])\n",
    "            return\n",
    "        if random_inits:\n",
    "            np.random.seed(seeds[0])\n",
    "            self.w = self.random_inits[init](size=X.shape[1])\n",
    "            np.random.seed(seeds[1])\n",
    "            self.b = self.random_inits[init]()\n",
    "        else:\n",
    "            self.w = np.ones(X.shape[1])\n",
    "            self.b = 0\n",
    "        \n",
    "        accuracy = {}\n",
    "        max_accuracy = 0\n",
    "        wt_matrix = []\n",
    "        \n",
    "        for i in range(epochs):\n",
    "            for j in range(X.shape[0]):\n",
    "                x,y = X[j],Y[j]\n",
    "                y_pred = self.model(x)\n",
    "                if y == 1 and y_pred == 0:\n",
    "                    self.w = self.w + lr * x\n",
    "                    self.b = self.b - lr * 1\n",
    "                elif y == 0 and y_pred == 1:\n",
    "                    self.w = self.w - lr * x\n",
    "                    self.b = self.b + lr * 1\n",
    "                    \n",
    "            accuracy[i] = accuracy_score(self.predict(X), Y)\n",
    "            \n",
    "            if (accuracy[i] > max_accuracy):\n",
    "                max_accuracy = accuracy[i]\n",
    "                chkptw = self.w\n",
    "                chkptb = self.b\n",
    "        \n",
    "        self.w = chkptw\n",
    "        self.b = chkptb\n",
    "        \n",
    "        print(max_accuracy)\n",
    "    \n",
    "        plt.plot(accuracy.values())\n",
    "        plt.ylim([0, 1])\n",
    "        plt.show()\n",
    "    \n",
    "        return max_accuracy"
   ]
  },
  {
   "cell_type": "code",
   "execution_count": null,
   "metadata": {
    "_uuid": "00af21f7f39855bd1b0897a2be7b1f537566fe01"
   },
   "outputs": [],
   "source": [
    "class Perceptron_loss:\n",
    "    def __init__ (self):\n",
    "        self.w = None\n",
    "        self.b = None\n",
    "        self.device = None\n",
    "        self.random_inits = {'normal':np.random.normal,'uniform':np.random.uniform}\n",
    "        self.loss_function = [mean_squared_error,log_loss][0]\n",
    "    def model(self, x):\n",
    "        dot_product = np.dot(self.w, x)\n",
    "        return 1 if (dot_product >= self.b) else 0\n",
    "    \n",
    "    def predict(self, X):\n",
    "        Y = []\n",
    "        for x in X:\n",
    "            result = self.model(x)\n",
    "            Y.append(result)\n",
    "        return np.array(Y)\n",
    "    \n",
    "    def fit(self, X, Y, epochs = 1, lr = 1,seeds=(1,1),init='normal',random_inits=True):\n",
    "        if X.shape[0] != Y.shape[0]:\n",
    "            print('X and Y have different shapes!',X.shape[0],'!=',Y.shape[0])\n",
    "            return\n",
    "        if random_inits:\n",
    "            np.random.seed(seeds[0])\n",
    "            self.w = self.random_inits[init](size=X.shape[1])\n",
    "            np.random.seed(seeds[1])\n",
    "            self.b = self.random_inits[init]()\n",
    "        else:\n",
    "            self.w = np.ones(X.shape[1])\n",
    "            self.b = 0\n",
    "        \n",
    "        accuracy = {}\n",
    "        max_accuracy = 0\n",
    "        wt_matrix = []\n",
    "        loss = 1\n",
    "        for i in range(epochs):\n",
    "            for j in range(X.shape[0]):\n",
    "                x,y = X[j],Y[j]\n",
    "                y_pred = self.model(x)\n",
    "                if y == 1 and y_pred == 0:\n",
    "                    self.w = self.w + lr *loss* x\n",
    "                    self.b = self.b - lr * 1\n",
    "                elif y == 0 and y_pred == 1:\n",
    "                    self.w = self.w - lr *loss* x\n",
    "                    self.b = self.b + lr * 1\n",
    "            pred = self.predict(X)\n",
    "            accuracy[i] = accuracy_score(pred, Y)\n",
    "            loss = self.loss_function(pred,Y)\n",
    "            loss = -loss if  loss < 0 else loss\n",
    "            \n",
    "            if (accuracy[i] > max_accuracy):\n",
    "                max_accuracy = accuracy[i]\n",
    "                chkptw = self.w\n",
    "                chkptb = self.b\n",
    "        \n",
    "        self.w = chkptw\n",
    "        self.b = chkptb\n",
    "        \n",
    "        print(max_accuracy)\n",
    "    \n",
    "        plt.plot(accuracy.values())\n",
    "        plt.ylim([0, 1])\n",
    "        plt.show()\n",
    "    \n",
    "        return max_accuracy"
   ]
  },
  {
   "cell_type": "code",
   "execution_count": null,
   "metadata": {
    "_uuid": "f27e14540de55e45ba395c24a8807c3b2a3034da"
   },
   "outputs": [],
   "source": [
    "import torch\n",
    "class Perceptron_cuda:\n",
    "    def __init__ (self):\n",
    "        self.w = None\n",
    "        self.b = None\n",
    "        self.device = None\n",
    "        self.mt = 0\n",
    "        self.random_inits = {'normal':np.random.normal,'uniform':np.random.uniform}\n",
    "        \n",
    "    def model(self, x):\n",
    "        return torch.mm(x,self.w) >= self.b\n",
    "    \n",
    "    def predict(self, X):\n",
    "        return self.model(X).cpu().numpy()\n",
    "    \n",
    "    def fit(self, X, Y, epochs = 1, lr = 1,seeds=(1,1),init='normal',random_inits=True):\n",
    "        if X.shape[0] != Y.shape[0]:\n",
    "            print('X and Y have different shapes!',X.shape[0],'!=',Y.shape[0])\n",
    "            return\n",
    "        if random_inits:\n",
    "            np.random.seed(seeds[0])\n",
    "            self.w = self.random_inits[init](size=X.shape[1])\n",
    "            np.random.seed(seeds[1])\n",
    "            self.b = self.random_inits[init]()\n",
    "        else:\n",
    "            self.w = np.ones(X.shape[1])\n",
    "            self.b = 0\n",
    "        \n",
    "        accuracy = {}\n",
    "        max_accuracy = 0\n",
    "        wt_matrix = []\n",
    "        lrc = lr\n",
    "        zero,one = 0,1\n",
    "        m1 = -1\n",
    "        if torch.cuda.is_available():\n",
    "            self.device = torch.device(\"cuda\")\n",
    "            self.w = torch.tensor(self.w,device=self.device).view(-1,1)\n",
    "            self.b = torch.tensor(self.b,device=self.device,dtype=torch.double)\n",
    "            X = torch.tensor(X,device=self.device)\n",
    "            Y = torch.tensor(Y,device=self.device)\n",
    "            lrc = torch.tensor(lrc,device=self.device,dtype=torch.double)\n",
    "            zero = torch.tensor(0,device=self.device,dtype=torch.uint8)\n",
    "            one = torch.tensor(1,device=self.device,dtype=torch.uint8)\n",
    "            m1 = torch.tensor(-1,device=self.device,dtype=torch.uint8)\n",
    "        for i in range(epochs):\n",
    "            for j in range(X.shape[0]):\n",
    "                x= X[j].view(-1,1)\n",
    "                y = Y[j]\n",
    "                y_pred = self.model(x.view(1,-1))\n",
    "                if torch.sub(y,y_pred) == one:\n",
    "                    self.w = torch.add(self.w, torch.mul(lrc, x))\n",
    "                    self.b = torch.sub(self.b ,lrc)\n",
    "                elif torch.sub(y,y_pred) == m1:\n",
    "                    self.w = torch.sub(self.w, torch.mul(lrc, x))\n",
    "                    self.b = torch.add(self.b ,lrc)\n",
    "            \n",
    "            accuracy[i] = accuracy_score(self.predict(X), Y.cpu().numpy())\n",
    "            if (accuracy[i] > max_accuracy):\n",
    "                max_accuracy = accuracy[i]\n",
    "                chkptw = self.w\n",
    "                chkptb = self.b\n",
    "        \n",
    "        self.w = chkptw\n",
    "        self.b = chkptb\n",
    "        \n",
    "        print(max_accuracy)\n",
    "    \n",
    "        plt.plot(accuracy.values())\n",
    "        plt.ylim([0, 1])\n",
    "        plt.show()\n",
    "    \n",
    "        return max_accuracy"
   ]
  },
  {
   "cell_type": "code",
   "execution_count": null,
   "metadata": {
    "_uuid": "12fdb97bf984b4d7a70b50840c3966659adecac8"
   },
   "outputs": [],
   "source": [
    "perceptron = [Perceptron,Perceptron_cuda,Perceptron_loss][-1]()"
   ]
  },
  {
   "cell_type": "code",
   "execution_count": null,
   "metadata": {
    "_uuid": "119cd75fd009f969d11e6e9bbeed55fc9538690b"
   },
   "outputs": [],
   "source": [
    "def data_scale(data,scaler_class,cols_to_scale,drop_cols,scale_all=False,idcol='PhoneId',data_train_scaler=None):\n",
    "    scaler = scaler_class() if not data_train_scaler else data_train_scaler\n",
    "    if scale_all:\n",
    "        scaled = data.drop(drop_cols,axis=1)\n",
    "        cols = scaled.columns\n",
    "        if not data_train_scaler:\n",
    "            scaler.fit(scaled)\n",
    "        scaled[cols] = scaler.transform(scaled)\n",
    "        data = scaled\n",
    "    else:\n",
    "        scaled,notscaled = data[cols_to_scale],data.drop(cols_to_scale,axis=1)\n",
    "        if not data_train_scaler:\n",
    "            scaler.fit(scaled)\n",
    "        scaled[cols_to_scale] = scaler.transform(scaled)\n",
    "        scaled[idcol] = data[idcol]\n",
    "        data = scaled.merge(notscaled,on=idcol)\n",
    "        data = data.drop(drop_cols,axis=1)\n",
    "    return data,scaler"
   ]
  },
  {
   "cell_type": "code",
   "execution_count": null,
   "metadata": {
    "_uuid": "cc7778c6dcf3c9469224975f4a4a507981465c74"
   },
   "outputs": [],
   "source": [
    "scalers = [MinMaxScaler,StandardScaler]\n",
    "test_ids = test_new[['PhoneId']]\n",
    "scaler_class = scalers[1]\n",
    "cols_to_scale = ['RAM','Internal Memory','Screen to Body Ratio (calculated)', 'Weight','Processor_frequency','Height', 'Capacity', 'Pixel Density', 'Screen Size', 'Resolution']\n",
    "train_drop = ['PhoneId','Rating']\n",
    "test_drop = ['PhoneId']\n",
    "scale_all = False\n",
    "\n",
    "x_train,train_scaler = data_scale(train_new,scaler_class,cols_to_scale,train_drop,scale_all)\n",
    "x_test,test_scaler = data_scale(test_new,scaler_class,cols_to_scale,test_drop,scale_all,data_train_scaler=train_scaler)\n",
    "\n",
    "y_train = np.array([ 1 if v>=THRESHOLD else 0 for v in train_new[['Rating']].values])\n",
    "cols = x_train.columns\n",
    "seeds = (1,1)"
   ]
  },
  {
   "cell_type": "code",
   "execution_count": null,
   "metadata": {
    "_uuid": "437d48da5f448532e60836f7720d1e49f049cb54"
   },
   "outputs": [],
   "source": [
    "def train(ep_lr):\n",
    "    ep,lr = ep_lr\n",
    "    print(ep,lr)\n",
    "    return [ep,lr,pc.fit(x_train.values, y_train, ep,lr,seeds=seeds)]\n",
    "\n",
    "def filtered(lst,func,index):\n",
    "    maxval = func(lst[:,index])\n",
    "    return np.array(list(filter(lambda v:v[index]==maxval,lst)))"
   ]
  },
  {
   "cell_type": "code",
   "execution_count": null,
   "metadata": {
    "_uuid": "5ad0963ea6612a48d15a3f847bda299cc10e373a"
   },
   "outputs": [],
   "source": [
    "# parameters = list(ParameterGrid({'epochs':[1000,2000,5000,10000],'lr':[0.0001,0.001,0.01,0.1,1,0.2,0.02,0.3.0.03]}))\n",
    "# parameters = list(ParameterGrid({'epochs':[100,1000,10000],'lr':[0.001,0.001,0.01,0.1,0.2,0.02,0.3,0.03]}))\n",
    "# res = [train(tuple(k.values())) for k in parameters]"
   ]
  },
  {
   "cell_type": "code",
   "execution_count": null,
   "metadata": {
    "_uuid": "8202e289e01cbfa166d79cf6ee176f5e298ec699"
   },
   "outputs": [],
   "source": [
    "# epi,lri,mai = 0,1,2 #indices\n",
    "# best_params = np.array(res)\n",
    "# best_params = filtered(best_params,max,mai)\n",
    "# best_params = filtered(best_params,min,epi)\n",
    "# #best_params = filtered(best_params,min,lri)\n",
    "# best_params = best_params[0]\n",
    "# print('Best hyperparameters found so far',best_params)"
   ]
  },
  {
   "cell_type": "code",
   "execution_count": null,
   "metadata": {
    "_uuid": "2084e07624a6962f5c329a1abe0b175be97025d8"
   },
   "outputs": [],
   "source": [
    "#epochs,lr = int(best_params[epi]),best_params[lri]\n",
    "epochs,lr,seeds = 1000,0.01,(0,0)\n",
    "#epochs,lr,seeds = 100000,0.0001,(0,0)\n",
    "print(epochs,lr)\n",
    "max_accuracy = perceptron.fit(x_train.values, y_train, epochs, lr,seeds=seeds)"
   ]
  },
  {
   "cell_type": "code",
   "execution_count": null,
   "metadata": {
    "_uuid": "dfdf089133f37f8b87e06c7c871c6aee13f27be4"
   },
   "outputs": [],
   "source": [
    "# import time\n",
    "# t1 = time.time()\n",
    "# max_accuracy = pc.fit(x_train, y_train, 1000, 0.01,seeds=(2,4))\n",
    "# print(time.time()-t1)"
   ]
  },
  {
   "cell_type": "code",
   "execution_count": null,
   "metadata": {
    "_uuid": "8ec37a405ddbdacf70abf2216908a96ac4693a1e"
   },
   "outputs": [],
   "source": [
    "plt.plot(perceptron.w)\n",
    "plt.show()\n",
    "weights = {}\n",
    "for i in range(len(perceptron.w)):\n",
    "    weights[cols[i]]=perceptron.w[i]\n",
    "#sorted_by_value = {}\n",
    "for c in list(sorted(weights, key=weights.get, reverse=True)):\n",
    "    #sorted_by_value[c] = weights[c]\n",
    "    print(c,weights[c])"
   ]
  },
  {
   "cell_type": "code",
   "execution_count": null,
   "metadata": {
    "_uuid": "2dbd603b37f030f94b7c25a8f27e740829572ec1"
   },
   "outputs": [],
   "source": [
    "results = perceptron.predict(x_test.values)"
   ]
  },
  {
   "cell_type": "code",
   "execution_count": null,
   "metadata": {
    "_uuid": "fa54deacc4b93504f9498fc4aa051706aee66dfb"
   },
   "outputs": [],
   "source": [
    "submission = pd.DataFrame({'PhoneId':test_ids['PhoneId'], 'Class':results})\n",
    "submission = submission[['PhoneId', 'Class']]\n",
    "submission.head()"
   ]
  },
  {
   "cell_type": "code",
   "execution_count": null,
   "metadata": {
    "_uuid": "7584f1ef2e77b373a0b0823220445c386fefec2c"
   },
   "outputs": [],
   "source": [
    "submission.to_csv(\"submission.csv\", index=False)"
   ]
  }
 ],
 "metadata": {
  "kernelspec": {
   "display_name": "Python 3",
   "language": "python",
   "name": "python3"
  },
  "language_info": {
   "codemirror_mode": {
    "name": "ipython",
    "version": 3
   },
   "file_extension": ".py",
   "mimetype": "text/x-python",
   "name": "python",
   "nbconvert_exporter": "python",
   "pygments_lexer": "ipython3",
   "version": "3.7.3"
  }
 },
 "nbformat": 4,
 "nbformat_minor": 1
}
